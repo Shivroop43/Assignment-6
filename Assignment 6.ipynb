{
 "cells": [
  {
   "cell_type": "markdown",
   "id": "c2964ac7",
   "metadata": {},
   "source": [
    "# Q 1"
   ]
  },
  {
   "cell_type": "code",
   "execution_count": 50,
   "id": "6d0d4741",
   "metadata": {},
   "outputs": [],
   "source": [
    "list1 = [1,2,3,4, [44,55,66, True], False, (34,56,78,89,34), {1,2,3,3,2,1}, {1:34, \"key2\": [55, 67, 78, 89], 4: (45,\n",
    "22, 61, 34)}, [56, 'data science'], 'Machine Learning']"
   ]
  },
  {
   "cell_type": "code",
   "execution_count": 63,
   "id": "52679034",
   "metadata": {},
   "outputs": [
    {
     "name": "stdout",
     "output_type": "stream",
     "text": [
      "Flat list: [1, 2, 3, 4, 44, 55, 66, True, False, 34, 56, 78, 89, 34, 1, 2, 3, 1, 34, 'key2', 55, 67, 78, 89, 4, 45, 22, 61, 34, 56, 'data science', 'Machine Learning']\n",
      "Product of numeric data: 4134711838987085478833841242112000\n"
     ]
    }
   ],
   "source": [
    "def flat_list(lst):\n",
    "    flate = []\n",
    "    for i in lst:\n",
    "        if type(i) == int or type(i) == str or type(i) == bool: \n",
    "            flate.append(i) \n",
    "        elif type(i) == list or type(i) == set or type(i) == tuple: \n",
    "            for j in i:\n",
    "                flate.append(j) \n",
    "        elif type(i) == dict: \n",
    "            for k in i.items(): \n",
    "                    flate.append(k[0]) \n",
    "                    if type(k[1]) == int or type(k[1])== str or type(k[1])== bool:\n",
    "                        flate.append(k[1])\n",
    "                    else:\n",
    "                        for l in k[1]:\n",
    "                            flate.append(l)\n",
    "    num_flat = []\n",
    "    for i in flate:\n",
    "        if type(i)==int:\n",
    "            num_flat.append(i)\n",
    "    product =1\n",
    "    for i in num_flat:\n",
    "        product =product* i\n",
    "    return flate, product\n",
    "print(f\"Flat list: {flat_list(list1)[0]}\")\n",
    "print(f\"Product of numeric data: {flat_list(list1)[1]}\")\n"
   ]
  },
  {
   "cell_type": "markdown",
   "id": "0c4f8378",
   "metadata": {},
   "source": [
    "# Q2"
   ]
  },
  {
   "cell_type": "code",
   "execution_count": 68,
   "id": "1cca65e8",
   "metadata": {},
   "outputs": [],
   "source": [
    "sen= 'I want to become a Data Scientist'"
   ]
  },
  {
   "cell_type": "code",
   "execution_count": 72,
   "id": "e084fc64",
   "metadata": {},
   "outputs": [
    {
     "name": "stdout",
     "output_type": "stream",
     "text": [
      "['a', 'b', 'c', 'd', 'e', 'f', 'g', 'h', 'i', 'j', 'k', 'l', 'm', 'n', 'o', 'p', 'q', 'r', 's', 't', 'u', 'v', 'w', 'x', 'y', 'z']"
     ]
    }
   ],
   "source": [
    "import string\n",
    "a = list(string.ascii_lowercase)\n",
    "print(a,end='')"
   ]
  },
  {
   "cell_type": "code",
   "execution_count": 73,
   "id": "7c185070",
   "metadata": {},
   "outputs": [],
   "source": [
    "a1 = ['a', 'b', 'c', 'd', 'e', 'f', 'g', 'h', 'i', 'j', 'k', 'l', 'm', 'n', 'o', 'p', 'q', 'r', 's', 't', 'u', 'v', 'w', 'x', 'y', 'z']"
   ]
  },
  {
   "cell_type": "code",
   "execution_count": 76,
   "id": "0d2aa0c2",
   "metadata": {},
   "outputs": [
    {
     "name": "stdout",
     "output_type": "stream",
     "text": [
      "['z', 'y', 'x', 'w', 'v', 'u', 't', 's', 'r', 'q', 'p', 'o', 'n', 'm', 'l', 'k', 'j', 'i', 'h', 'g', 'f', 'e', 'd', 'c', 'b', 'a']"
     ]
    }
   ],
   "source": [
    "a2 =a1[::-1]\n",
    "print(a2,end='')"
   ]
  },
  {
   "cell_type": "code",
   "execution_count": 81,
   "id": "7cf66e90",
   "metadata": {},
   "outputs": [
    {
     "name": "stdout",
     "output_type": "stream",
     "text": [
      "Please enter your message ?I want to become a Data Scientist.\n",
      "t$nzro$oq$yuxqsu$z$vzoz$pxturotpo\n"
     ]
    }
   ],
   "source": [
    "user_input = input(\"Please enter your message ?\")\n",
    "dict_input = {\"a\": \"z\", \"b\": \"y\", \"c\": \"x\", \"d\": \"v\", \"e\": \"u\", \"i\": \"t\", \n",
    "              \"m\": \"s\", \"n\": \"r\", \"o\": \"q\", \"s\": \"p\", \"t\": \"o\", \"w\": \"n\"}\n",
    "\n",
    "rev_input = user_input.lower()\n",
    "encrypt_list = []\n",
    "for i in rev_input:\n",
    "    if i == \" \":\n",
    "        encrypt_list.append(\"$\")\n",
    "    elif i in dict_input:\n",
    "        encrypt_list.append(dict_input[i])\n",
    "encrypt_message= \"\".join(encrypt_list)\n",
    "print(encrypt_message)"
   ]
  }
 ],
 "metadata": {
  "kernelspec": {
   "display_name": "Python 3 (ipykernel)",
   "language": "python",
   "name": "python3"
  },
  "language_info": {
   "codemirror_mode": {
    "name": "ipython",
    "version": 3
   },
   "file_extension": ".py",
   "mimetype": "text/x-python",
   "name": "python",
   "nbconvert_exporter": "python",
   "pygments_lexer": "ipython3",
   "version": "3.9.12"
  }
 },
 "nbformat": 4,
 "nbformat_minor": 5
}
